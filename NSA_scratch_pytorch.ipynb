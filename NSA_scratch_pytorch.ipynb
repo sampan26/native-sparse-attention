{
  "nbformat": 4,
  "nbformat_minor": 0,
  "metadata": {
    "colab": {
      "provenance": [],
      "authorship_tag": "ABX9TyMTkWqVx3QkvNktYogtTBKQ"
    },
    "kernelspec": {
      "name": "python3",
      "display_name": "Python 3"
    },
    "language_info": {
      "name": "python"
    }
  },
  "cells": [
    {
      "cell_type": "code",
      "execution_count": null,
      "metadata": {
        "colab": {
          "base_uri": "https://localhost:8080/"
        },
        "id": "gQ2HTDIlYQoV",
        "outputId": "d01ffef7-3042-4db1-984c-8846d433adff"
      },
      "outputs": [
        {
          "output_type": "execute_result",
          "data": {
            "text/plain": [
              "<torch._C.Generator at 0x790abff24d50>"
            ]
          },
          "metadata": {},
          "execution_count": 1
        }
      ],
      "source": [
        "import torch\n",
        "import torch.nn as nn\n",
        "import torch.nn.functional as F\n",
        "import math\n",
        "torch.manual_seed(42)"
      ]
    },
    {
      "cell_type": "code",
      "source": [
        "N = 256\n",
        "l = 8\n",
        "d = 8\n",
        "block_nums = N // l #32\n",
        "dim = 64\n",
        "heads = 4\n",
        "head_dim = dim//heads\n",
        "batch_size = 1"
      ],
      "metadata": {
        "id": "H7BhQ8XIYZGT"
      },
      "execution_count": null,
      "outputs": []
    },
    {
      "cell_type": "code",
      "source": [
        "X = torch.randn(batch_size, N, dim)\n",
        "Wq = torch.randn(dim, dim)\n",
        "Wk = torch.randn(dim, dim)\n",
        "Wv = torch.randn(dim, dim)\n",
        "\n",
        "Q = X @ Wq\n",
        "K = X @ Wk\n",
        "V = X @ Wv"
      ],
      "metadata": {
        "id": "D7jvUWLvZEeQ"
      },
      "execution_count": null,
      "outputs": []
    },
    {
      "cell_type": "code",
      "source": [
        "print(Q.shape)\n",
        "print(K.shape)\n",
        "print(V.shape)"
      ],
      "metadata": {
        "colab": {
          "base_uri": "https://localhost:8080/"
        },
        "id": "Lj863i8AZNK2",
        "outputId": "388863f1-8648-4a32-e84c-83ac0871156e"
      },
      "execution_count": null,
      "outputs": [
        {
          "output_type": "stream",
          "name": "stdout",
          "text": [
            "torch.Size([1, 256, 64])\n",
            "torch.Size([1, 256, 64])\n",
            "torch.Size([1, 256, 64])\n"
          ]
        }
      ]
    },
    {
      "cell_type": "code",
      "source": [
        "d = 4\n",
        "max_idx = round((N - l) / d) # block max idx\n",
        "print(max_idx)\n",
        "print(torch.arange(max_idx) * d + 1)\n",
        "print(torch.arange(max_idx) * d + l)"
      ],
      "metadata": {
        "colab": {
          "base_uri": "https://localhost:8080/"
        },
        "id": "hve9JN1AZOef",
        "outputId": "aa01e7a8-a990-4335-89a4-69fae3ff204b"
      },
      "execution_count": null,
      "outputs": [
        {
          "output_type": "stream",
          "name": "stdout",
          "text": [
            "62\n",
            "tensor([  1,   5,   9,  13,  17,  21,  25,  29,  33,  37,  41,  45,  49,  53,\n",
            "         57,  61,  65,  69,  73,  77,  81,  85,  89,  93,  97, 101, 105, 109,\n",
            "        113, 117, 121, 125, 129, 133, 137, 141, 145, 149, 153, 157, 161, 165,\n",
            "        169, 173, 177, 181, 185, 189, 193, 197, 201, 205, 209, 213, 217, 221,\n",
            "        225, 229, 233, 237, 241, 245])\n",
            "tensor([  8,  12,  16,  20,  24,  28,  32,  36,  40,  44,  48,  52,  56,  60,\n",
            "         64,  68,  72,  76,  80,  84,  88,  92,  96, 100, 104, 108, 112, 116,\n",
            "        120, 124, 128, 132, 136, 140, 144, 148, 152, 156, 160, 164, 168, 172,\n",
            "        176, 180, 184, 188, 192, 196, 200, 204, 208, 212, 216, 220, 224, 228,\n",
            "        232, 236, 240, 244, 248, 252])\n"
          ]
        }
      ]
    },
    {
      "cell_type": "code",
      "source": [
        "d = l\n",
        "max_idx = round((N) / d) # block max idx\n",
        "print(max_idx)\n",
        "print(torch.arange(max_idx) * d + 1)\n",
        "print(torch.arange(max_idx) * d + l)"
      ],
      "metadata": {
        "colab": {
          "base_uri": "https://localhost:8080/"
        },
        "id": "tPwTlLoPZiW2",
        "outputId": "2883ca8e-da44-4ac5-f710-cccb87df1e4f"
      },
      "execution_count": null,
      "outputs": [
        {
          "output_type": "stream",
          "name": "stdout",
          "text": [
            "32\n",
            "tensor([  1,   9,  17,  25,  33,  41,  49,  57,  65,  73,  81,  89,  97, 105,\n",
            "        113, 121, 129, 137, 145, 153, 161, 169, 177, 185, 193, 201, 209, 217,\n",
            "        225, 233, 241, 249])\n",
            "tensor([  8,  16,  24,  32,  40,  48,  56,  64,  72,  80,  88,  96, 104, 112,\n",
            "        120, 128, 136, 144, 152, 160, 168, 176, 184, 192, 200, 208, 216, 224,\n",
            "        232, 240, 248, 256])\n"
          ]
        }
      ]
    },
    {
      "cell_type": "code",
      "source": [
        "W_pe = torch.randn(l, dim)\n",
        "phi_K = torch.randn(l, 1)\n",
        "phi_V = torch.randn(l, 1)"
      ],
      "metadata": {
        "id": "F6R9rsA4Zqa0"
      },
      "execution_count": null,
      "outputs": []
    },
    {
      "cell_type": "code",
      "source": [
        "K_cmp = []\n",
        "V_cmp = []\n",
        "for i in range(max_idx):\n",
        "  cur_K = K[:, i*d: i*d+l, :] + W_pe.unsqueeze(0)\n",
        "  cur_V = V[:, i*d: i*d+l, :] + W_pe.unsqueeze(0)\n",
        "  cur_K = cur_K.transpose(1, 2) @ phi_K\n",
        "  cur_V = cur_V.transpose(1, 2) @ phi_V\n",
        "  K_cmp.append(cur_K)\n",
        "  V_cmp.append(cur_V)\n",
        "\n"
      ],
      "metadata": {
        "id": "6a10OO07dsCB"
      },
      "execution_count": null,
      "outputs": []
    },
    {
      "cell_type": "code",
      "source": [
        "K_cmp[0].shape"
      ],
      "metadata": {
        "colab": {
          "base_uri": "https://localhost:8080/"
        },
        "id": "pl6afcT1f3AM",
        "outputId": "f7e2ba8a-0590-4439-b137-903a9fa1590f"
      },
      "execution_count": null,
      "outputs": [
        {
          "output_type": "execute_result",
          "data": {
            "text/plain": [
              "torch.Size([1, 64, 1])"
            ]
          },
          "metadata": {},
          "execution_count": 9
        }
      ]
    },
    {
      "cell_type": "code",
      "source": [
        "K_cmp = torch.cat(K_cmp, dim=2).transpose(1,2)\n",
        "V_cmp = torch.cat(V_cmp, dim=2).transpose(1,2)\n",
        "print(K_cmp.shape)"
      ],
      "metadata": {
        "colab": {
          "base_uri": "https://localhost:8080/"
        },
        "id": "spZYH9Fce9RT",
        "outputId": "36d5baf4-449e-4271-dae8-411ed02d512b"
      },
      "execution_count": null,
      "outputs": [
        {
          "output_type": "stream",
          "name": "stdout",
          "text": [
            "torch.Size([1, 32, 64])\n"
          ]
        }
      ]
    },
    {
      "cell_type": "code",
      "source": [
        "Q_mha = Q.view(1, N, heads, head_dim).transpose(1,2)\n",
        "K_mha = K_cmp.view(1, block_nums, heads, head_dim).transpose(1,2)\n",
        "V_mha = V_cmp.view(1, block_nums, heads, head_dim).transpose(1,2)\n",
        "score_cmp = Q_mha @ K_mha.transpose(2,3)"
      ],
      "metadata": {
        "id": "QTJbOS4NfWj4"
      },
      "execution_count": null,
      "outputs": []
    },
    {
      "cell_type": "code",
      "source": [
        "score_cmp.shape"
      ],
      "metadata": {
        "colab": {
          "base_uri": "https://localhost:8080/"
        },
        "id": "GpnAGq4OlPiZ",
        "outputId": "5daee18d-4793-44d5-a221-7ebb8567bb59"
      },
      "execution_count": null,
      "outputs": [
        {
          "output_type": "execute_result",
          "data": {
            "text/plain": [
              "torch.Size([1, 4, 256, 32])"
            ]
          },
          "metadata": {},
          "execution_count": 12
        }
      ]
    },
    {
      "cell_type": "code",
      "source": [
        "p_cmp = F.softmax(score_cmp, dim=-1)\n",
        "print(p_cmp.shape)\n",
        "o_cmp = p_cmp @ V_mha\n",
        "print(o_cmp.shape)\n",
        "o_cmp = o_cmp.transpose(2, 1).reshape(batch_size, N, dim)\n",
        "print(o_cmp.shape)"
      ],
      "metadata": {
        "colab": {
          "base_uri": "https://localhost:8080/"
        },
        "id": "Zk_1qJrzlrJr",
        "outputId": "04ecd8ff-6838-4dab-e76a-eb74c6c2a86d"
      },
      "execution_count": null,
      "outputs": [
        {
          "output_type": "stream",
          "name": "stdout",
          "text": [
            "torch.Size([1, 4, 256, 32])\n",
            "torch.Size([1, 4, 256, 16])\n",
            "torch.Size([1, 256, 64])\n"
          ]
        }
      ]
    },
    {
      "cell_type": "markdown",
      "source": [
        "## Selector"
      ],
      "metadata": {
        "id": "pBJh7jxImw8J"
      }
    },
    {
      "cell_type": "code",
      "source": [
        "p_slc = p_cmp.sum(dim=1)\n",
        "print(p_slc.shape)\n",
        "select_top_k = 3\n",
        "value, idx = torch.topk(p_slc, dim=2, k=select_top_k)\n",
        "print(value.shape)\n",
        "print(idx.shape)"
      ],
      "metadata": {
        "colab": {
          "base_uri": "https://localhost:8080/"
        },
        "id": "Ib51K6mWly60",
        "outputId": "da2c08a7-f36c-4a8c-e992-1491587b3690"
      },
      "execution_count": null,
      "outputs": [
        {
          "output_type": "stream",
          "name": "stdout",
          "text": [
            "torch.Size([1, 256, 32])\n",
            "torch.Size([1, 256, 3])\n",
            "torch.Size([1, 256, 3])\n"
          ]
        }
      ]
    },
    {
      "cell_type": "code",
      "source": [
        "K_slc = torch.zeros(batch_size, N, select_top_k * d, dim)\n",
        "V_slc = torch.zeros(batch_size, N, select_top_k * d, dim)\n",
        "idx_slc_start = idx * d\n",
        "idx_slc_end = idx * d + l\n",
        "\n",
        "for i in range(batch_size):\n",
        "  for j in range(N):\n",
        "    for k in range(select_top_k):\n",
        "      K_slc[i, j, k*d: k*d+l, :] = K[i, idx_slc_start[i, j, k] : idx_slc_end[i, j, k], :]\n",
        "      V_slc[i, j, k*d: k*d+l, :] = V[i, idx_slc_start[i, j, k] : idx_slc_end[i, j, k], :]\n",
        "print(K_slc.shape)\n",
        "print(V_slc.shape)"
      ],
      "metadata": {
        "id": "L_9ZKDHanpiw",
        "colab": {
          "base_uri": "https://localhost:8080/"
        },
        "outputId": "5f19b97f-047a-478c-8b30-378270a00142"
      },
      "execution_count": null,
      "outputs": [
        {
          "output_type": "stream",
          "name": "stdout",
          "text": [
            "torch.Size([1, 256, 24, 64])\n",
            "torch.Size([1, 256, 24, 64])\n"
          ]
        }
      ]
    },
    {
      "cell_type": "code",
      "source": [
        "K_mha = K_slc.view(batch_size, N, heads, select_top_k * d, head_dim).transpose(1, 2)\n",
        "V_mha = V_slc.view(batch_size, N, heads, select_top_k * d, head_dim).transpose(1, 2)\n",
        "print(Q_mha.shape) #bs, nh, N, h_dim\n",
        "print(K_mha.shape) # bs, nh, N, top_k * d, h_dim\n",
        "print(V_mha.shape) # bs, nh, N, top_k * d, h_dim"
      ],
      "metadata": {
        "colab": {
          "base_uri": "https://localhost:8080/"
        },
        "id": "LziDsyx9q9GD",
        "outputId": "31d190e4-5bd2-4b87-ca12-c7da3039c216"
      },
      "execution_count": null,
      "outputs": [
        {
          "output_type": "stream",
          "name": "stdout",
          "text": [
            "torch.Size([1, 4, 256, 16])\n",
            "torch.Size([1, 4, 256, 24, 16])\n",
            "torch.Size([1, 4, 256, 24, 16])\n"
          ]
        }
      ]
    },
    {
      "cell_type": "code",
      "source": [
        "score_slc = (Q_mha.unsqueeze(-2) @ K_mha.transpose(-2,-1))\n",
        "print(score_slc.shape)\n",
        "p_slc = F.softmax(score_slc, dim=-1)\n",
        "o_slc = (p_slc @ V_mha).squeeze(-2)\n",
        "print(o_slc.shape)\n",
        "o_slc = o_slc.transpose(1, 2).reshape(batch_size, N, dim)\n",
        "print(o_slc.shape)"
      ],
      "metadata": {
        "colab": {
          "base_uri": "https://localhost:8080/"
        },
        "id": "YwV0X2Z-Aw7P",
        "outputId": "fda9bfa2-57c7-416c-ea87-c0b4d90110d0"
      },
      "execution_count": null,
      "outputs": [
        {
          "output_type": "stream",
          "name": "stdout",
          "text": [
            "torch.Size([1, 4, 256, 1, 24])\n",
            "torch.Size([1, 4, 256, 16])\n",
            "torch.Size([1, 256, 64])\n"
          ]
        }
      ]
    },
    {
      "cell_type": "markdown",
      "source": [
        "# Sliding Window"
      ],
      "metadata": {
        "id": "aL_fbVI2CMDw"
      }
    },
    {
      "cell_type": "code",
      "source": [
        "def get_window_mask(seq_len, window_len):\n",
        "  mask = torch.ones(seq_len, seq_len)\n",
        "  mask = torch.tril(mask)\n",
        "  wdw_mask = torch.ones(seq_len-window_len, seq_len-window_len)\n",
        "  wdw_mask = 1.0 - torch.tril(wdw_mask)\n",
        "  mask[window_len:, :seq_len-window_len] = wdw_mask\n",
        "  return mask"
      ],
      "metadata": {
        "id": "llra1SXu7sLl"
      },
      "execution_count": null,
      "outputs": []
    },
    {
      "cell_type": "code",
      "source": [
        "window_size = 16\n",
        "score_wdw = Q @ K.transpose(-2, -1) / math.sqrt(dim)\n",
        "score_wdw = score_wdw * get_window_mask(N, window_size)\n",
        "p_wdw = F.softmax(score_wdw, dim=-1)\n",
        "o_wdw = p_wdw @ V\n",
        "o_wdw.shape"
      ],
      "metadata": {
        "colab": {
          "base_uri": "https://localhost:8080/"
        },
        "id": "DJN7aqt8DcCn",
        "outputId": "93764610-18c3-4ae0-ea08-5167d37548d9"
      },
      "execution_count": null,
      "outputs": [
        {
          "output_type": "execute_result",
          "data": {
            "text/plain": [
              "torch.Size([1, 256, 64])"
            ]
          },
          "metadata": {},
          "execution_count": 19
        }
      ]
    },
    {
      "cell_type": "code",
      "source": [
        "W_gate = torch.randn(dim, 3)\n",
        "gate = X @ W_gate\n",
        "gate = F.sigmoid(gate)\n",
        "gate = gate.unsqueeze(-2)\n",
        "print(gate.shape)"
      ],
      "metadata": {
        "colab": {
          "base_uri": "https://localhost:8080/"
        },
        "id": "n6z6vC5nD7Ac",
        "outputId": "e5a18b2c-310d-4d0e-c1ed-6c7fc0758ece"
      },
      "execution_count": null,
      "outputs": [
        {
          "output_type": "stream",
          "name": "stdout",
          "text": [
            "torch.Size([1, 256, 1, 3])\n"
          ]
        }
      ]
    },
    {
      "cell_type": "code",
      "source": [
        "o_list = torch.stack([o_cmp, o_slc, o_wdw], dim=-1)\n",
        "print(o_list.shape)\n",
        "a = (o_list * gate).sum(dim=-1)\n",
        "print(a.shape)"
      ],
      "metadata": {
        "colab": {
          "base_uri": "https://localhost:8080/"
        },
        "id": "6liYB4R0cxIa",
        "outputId": "787d4f32-605b-498a-c0d6-3efaa53fdbdf"
      },
      "execution_count": null,
      "outputs": [
        {
          "output_type": "stream",
          "name": "stdout",
          "text": [
            "torch.Size([1, 256, 64, 3])\n",
            "torch.Size([1, 256, 64])\n"
          ]
        }
      ]
    },
    {
      "cell_type": "code",
      "source": [
        "# [1, 256, 64]"
      ],
      "metadata": {
        "id": "dM8uVSaBc8J_"
      },
      "execution_count": null,
      "outputs": []
    }
  ]
}